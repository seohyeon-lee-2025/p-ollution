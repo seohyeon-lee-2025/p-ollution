{
 "cells": [
  {
   "cell_type": "code",
   "execution_count": 1,
   "metadata": {},
   "outputs": [],
   "source": [
    "import pandas as pd\n",
    "import os\n",
    "import re"
   ]
  },
  {
   "cell_type": "code",
   "execution_count": 2,
   "metadata": {},
   "outputs": [
    {
     "name": "stderr",
     "output_type": "stream",
     "text": [
      "/Users/seohyeonlee/p-ollution/.venv/lib/python3.11/site-packages/openpyxl/styles/stylesheet.py:226: UserWarning: Workbook contains no default style, apply openpyxl's default\n",
      "  warn(\"Workbook contains no default style, apply openpyxl's default\")\n",
      "/Users/seohyeonlee/p-ollution/.venv/lib/python3.11/site-packages/openpyxl/styles/stylesheet.py:226: UserWarning: Workbook contains no default style, apply openpyxl's default\n",
      "  warn(\"Workbook contains no default style, apply openpyxl's default\")\n",
      "/Users/seohyeonlee/p-ollution/.venv/lib/python3.11/site-packages/openpyxl/styles/stylesheet.py:226: UserWarning: Workbook contains no default style, apply openpyxl's default\n",
      "  warn(\"Workbook contains no default style, apply openpyxl's default\")\n",
      "/Users/seohyeonlee/p-ollution/.venv/lib/python3.11/site-packages/openpyxl/styles/stylesheet.py:226: UserWarning: Workbook contains no default style, apply openpyxl's default\n",
      "  warn(\"Workbook contains no default style, apply openpyxl's default\")\n",
      "/Users/seohyeonlee/p-ollution/.venv/lib/python3.11/site-packages/openpyxl/styles/stylesheet.py:226: UserWarning: Workbook contains no default style, apply openpyxl's default\n",
      "  warn(\"Workbook contains no default style, apply openpyxl's default\")\n",
      "/Users/seohyeonlee/p-ollution/.venv/lib/python3.11/site-packages/openpyxl/styles/stylesheet.py:226: UserWarning: Workbook contains no default style, apply openpyxl's default\n",
      "  warn(\"Workbook contains no default style, apply openpyxl's default\")\n"
     ]
    }
   ],
   "source": [
    "#script to clean everything in agricultural data\n",
    "\n",
    "directory = \"agricultural_data\"\n",
    "\n",
    "#loop through data folder and open each file as csv. take name from disease code\n",
    "df_list = []\n",
    "title_list = []\n",
    "for filename in os.listdir(directory):\n",
    "    f = os.path.join(directory, filename)\n",
    "\n",
    "    # checking if it is a file\n",
    "    if os.path.isfile(f):\n",
    "        df = pd.read_excel(f)\n",
    "        if filename != \"main_crop_production.xlsx\":\n",
    "            df_list.append(df)\n",
    "            title_list.append(filename)\n",
    "\n"
   ]
  },
  {
   "cell_type": "code",
   "execution_count": 3,
   "metadata": {},
   "outputs": [
    {
     "data": {
      "text/plain": [
       "['fruit_production.xlsx',\n",
       " 'fruitbearing_vegetable_production.xlsx',\n",
       " 'grain_production.xlsx',\n",
       " 'spice_vegetable_production.xlsx',\n",
       " 'leafy_vegetable_production.xlsx']"
      ]
     },
     "execution_count": 3,
     "metadata": {},
     "output_type": "execute_result"
    }
   ],
   "source": [
    "title_list"
   ]
  },
  {
   "cell_type": "code",
   "execution_count": 4,
   "metadata": {},
   "outputs": [
    {
     "data": {
      "text/plain": [
       "0               Regions\n",
       "1                 Total\n",
       "2                 Seoul\n",
       "3                 Busan\n",
       "4                 Daegu\n",
       "5               Incheon\n",
       "6               Gwangju\n",
       "7               Daejeon\n",
       "8                 Ulsan\n",
       "9                Sejong\n",
       "10          Gyeonggi-do\n",
       "11           Gangwon-do\n",
       "12    Chungcheongbuk-do\n",
       "13    Chungcheongnam-do\n",
       "14         Jeollabuk-do\n",
       "15         Jeollanam-do\n",
       "16     Gyeongsangbuk-do\n",
       "17     Gyeongsangnam-do\n",
       "18              Jeju-do\n",
       "Name: By province, dtype: object"
      ]
     },
     "execution_count": 4,
     "metadata": {},
     "output_type": "execute_result"
    }
   ],
   "source": [
    "#save regions\n",
    "regions = df_list[0]['By province']\n",
    "regions[0] = 'Regions'\n",
    "regions"
   ]
  },
  {
   "cell_type": "code",
   "execution_count": 5,
   "metadata": {},
   "outputs": [],
   "source": [
    "filtered_list = []\n",
    "for title, df in zip(title_list, df_list):\n",
    "    if title != 'main_crop_production':\n",
    "        \n",
    "        pattern = r\".*\\.1$\"\n",
    "        filtered_cols = [col for col in df.columns if re.match(pattern, col)]\n",
    "        filtered_df = df[filtered_cols]\n",
    "        filtered_list.append(filtered_df)"
   ]
  },
  {
   "cell_type": "code",
   "execution_count": 6,
   "metadata": {},
   "outputs": [
    {
     "name": "stdout",
     "output_type": "stream",
     "text": [
      "fruit_production.xlsx Index(['2017.1', '2018.1', '2019.1', '2020.1', '2021.1', '2022.1'], dtype='object') 19\n",
      "fruitbearing_vegetable_production.xlsx Index(['2017.1', '2018.1', '2019.1', '2020.1', '2021.1', '2022.1'], dtype='object') 19\n",
      "grain_production.xlsx Index(['2017.1', '2018.1', '2019.1', '2020.1', '2021.1', '2022.1'], dtype='object') 19\n",
      "spice_vegetable_production.xlsx Index(['2016.1', '2017.1', '2018.1', '2019.1', '2020.1', '2021.1', '2022.1'], dtype='object') 19\n",
      "leafy_vegetable_production.xlsx Index(['2017.1', '2018.1', '2019.1', '2020.1', '2021.1', '2022.1'], dtype='object') 19\n",
      "['2017.1', '2018.1', '2019.1', '2020.1', '2021.1', '2022.1', '2017.1', '2018.1', '2019.1', '2020.1', '2021.1', '2022.1', '2017.1', '2018.1', '2019.1', '2020.1', '2021.1', '2022.1', '2016.1', '2017.1', '2018.1', '2019.1', '2020.1', '2021.1', '2022.1', '2017.1', '2018.1', '2019.1', '2020.1', '2021.1', '2022.1']\n"
     ]
    },
    {
     "name": "stderr",
     "output_type": "stream",
     "text": [
      "/var/folders/lq/dt070ydd3h13pqgrgy6rpv300000gn/T/ipykernel_28211/3324128918.py:12: FutureWarning: DataFrame.groupby with axis=1 is deprecated. Do `frame.T.groupby(...)` without axis instead.\n",
      "  sum_result = concat_df.groupby(level=0, axis=1).sum()\n"
     ]
    },
    {
     "data": {
      "text/html": [
       "<div>\n",
       "<style scoped>\n",
       "    .dataframe tbody tr th:only-of-type {\n",
       "        vertical-align: middle;\n",
       "    }\n",
       "\n",
       "    .dataframe tbody tr th {\n",
       "        vertical-align: top;\n",
       "    }\n",
       "\n",
       "    .dataframe thead th {\n",
       "        text-align: right;\n",
       "    }\n",
       "</style>\n",
       "<table border=\"1\" class=\"dataframe\">\n",
       "  <thead>\n",
       "    <tr style=\"text-align: right;\">\n",
       "      <th></th>\n",
       "      <th>2017</th>\n",
       "      <th>2018</th>\n",
       "      <th>2019</th>\n",
       "      <th>2020</th>\n",
       "      <th>2021</th>\n",
       "      <th>2022</th>\n",
       "    </tr>\n",
       "    <tr>\n",
       "      <th>Annual Agricultural Production (Ton)</th>\n",
       "      <th></th>\n",
       "      <th></th>\n",
       "      <th></th>\n",
       "      <th></th>\n",
       "      <th></th>\n",
       "      <th></th>\n",
       "    </tr>\n",
       "  </thead>\n",
       "  <tbody>\n",
       "    <tr>\n",
       "      <th>Total</th>\n",
       "      <td>13811570</td>\n",
       "      <td>13998391</td>\n",
       "      <td>13588896</td>\n",
       "      <td>12746288</td>\n",
       "      <td>13558227</td>\n",
       "      <td>13136912</td>\n",
       "    </tr>\n",
       "    <tr>\n",
       "      <th>Seoul</th>\n",
       "      <td>3210</td>\n",
       "      <td>2948</td>\n",
       "      <td>2731</td>\n",
       "      <td>2527</td>\n",
       "      <td>3786</td>\n",
       "      <td>3967</td>\n",
       "    </tr>\n",
       "    <tr>\n",
       "      <th>Busan</th>\n",
       "      <td>63624</td>\n",
       "      <td>70881</td>\n",
       "      <td>62334</td>\n",
       "      <td>63893</td>\n",
       "      <td>71196</td>\n",
       "      <td>75742</td>\n",
       "    </tr>\n",
       "    <tr>\n",
       "      <th>Daegu</th>\n",
       "      <td>115066</td>\n",
       "      <td>118741</td>\n",
       "      <td>116849</td>\n",
       "      <td>119233</td>\n",
       "      <td>101231</td>\n",
       "      <td>110200</td>\n",
       "    </tr>\n",
       "    <tr>\n",
       "      <th>Incheon</th>\n",
       "      <td>97858</td>\n",
       "      <td>97544</td>\n",
       "      <td>100913</td>\n",
       "      <td>97318</td>\n",
       "      <td>104338</td>\n",
       "      <td>96451</td>\n",
       "    </tr>\n",
       "  </tbody>\n",
       "</table>\n",
       "</div>"
      ],
      "text/plain": [
       "                                          2017      2018      2019      2020  \\\n",
       "Annual Agricultural Production (Ton)                                           \n",
       "Total                                 13811570  13998391  13588896  12746288   \n",
       "Seoul                                     3210      2948      2731      2527   \n",
       "Busan                                    63624     70881     62334     63893   \n",
       "Daegu                                   115066    118741    116849    119233   \n",
       "Incheon                                  97858     97544    100913     97318   \n",
       "\n",
       "                                          2021      2022  \n",
       "Annual Agricultural Production (Ton)                      \n",
       "Total                                 13558227  13136912  \n",
       "Seoul                                     3786      3967  \n",
       "Busan                                    71196     75742  \n",
       "Daegu                                   101231    110200  \n",
       "Incheon                                 104338     96451  "
      ]
     },
     "execution_count": 6,
     "metadata": {},
     "output_type": "execute_result"
    }
   ],
   "source": [
    "for title, df in zip(title_list, filtered_list):\n",
    "    print(title, df.columns, len(df))\n",
    "    #spice production has an extra year. dropped it here\n",
    "    if title == \"spice_vegetable_production.xlsx\":\n",
    "        df = df.drop(['2016.1'], axis = 1)\n",
    "\n",
    "column_names = filtered_list[0].columns\n",
    "concat_df = pd.concat(filtered_list, axis = 1)\n",
    "print(list(concat_df.columns))\n",
    "\n",
    "#sum all columns in concat_df with the same name and assignt this column to corresponding name\n",
    "sum_result = concat_df.groupby(level=0, axis=1).sum()\n",
    "# sum_result.head()\n",
    "\n",
    "#drop 2016 since only one df has this information and drop first row\n",
    "sum_result = sum_result.drop(['2016.1'], axis = 1)\n",
    "\n",
    "sum_result = sum_result.set_index(regions)\n",
    "sum_result = sum_result.iloc[1:, :]\n",
    "sum_result.index.name = 'Annual Agricultural Production (Ton)'\n",
    "\n",
    "year = [int(x.split(\".\")[0]) for x in column_names]\n",
    "sum_result.columns = year\n",
    "sum_result.head()\n"
   ]
  },
  {
   "cell_type": "code",
   "execution_count": 81,
   "metadata": {},
   "outputs": [],
   "source": [
    "sum_result.to_csv('data/agricultural_production.csv')"
   ]
  },
  {
   "cell_type": "code",
   "execution_count": null,
   "metadata": {},
   "outputs": [],
   "source": []
  }
 ],
 "metadata": {
  "kernelspec": {
   "display_name": ".venv",
   "language": "python",
   "name": "python3"
  },
  "language_info": {
   "codemirror_mode": {
    "name": "ipython",
    "version": 3
   },
   "file_extension": ".py",
   "mimetype": "text/x-python",
   "name": "python",
   "nbconvert_exporter": "python",
   "pygments_lexer": "ipython3",
   "version": "3.11.4"
  }
 },
 "nbformat": 4,
 "nbformat_minor": 2
}
