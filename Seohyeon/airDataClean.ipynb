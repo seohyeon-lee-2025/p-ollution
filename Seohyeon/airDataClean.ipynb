{
 "cells": [
  {
   "cell_type": "code",
   "execution_count": 1,
   "metadata": {},
   "outputs": [],
   "source": [
    "import pandas as pd\n",
    "import numpy as np\n",
    "import os\n",
    "import re"
   ]
  },
  {
   "cell_type": "code",
   "execution_count": 2,
   "metadata": {},
   "outputs": [
    {
     "ename": "FileNotFoundError",
     "evalue": "[Errno 2] No such file or directory: 'rawdata/air_data'",
     "output_type": "error",
     "traceback": [
      "\u001b[0;31m---------------------------------------------------------------------------\u001b[0m",
      "\u001b[0;31mFileNotFoundError\u001b[0m                         Traceback (most recent call last)",
      "\u001b[1;32m/Users/seohyeonlee/p-ollution/Seohyeon/airDataClean.ipynb Cell 2\u001b[0m line \u001b[0;36m6\n\u001b[1;32m      <a href='vscode-notebook-cell:/Users/seohyeonlee/p-ollution/Seohyeon/airDataClean.ipynb#W1sZmlsZQ%3D%3D?line=3'>4</a>\u001b[0m df_list \u001b[39m=\u001b[39m []\n\u001b[1;32m      <a href='vscode-notebook-cell:/Users/seohyeonlee/p-ollution/Seohyeon/airDataClean.ipynb#W1sZmlsZQ%3D%3D?line=4'>5</a>\u001b[0m title_list \u001b[39m=\u001b[39m []\n\u001b[0;32m----> <a href='vscode-notebook-cell:/Users/seohyeonlee/p-ollution/Seohyeon/airDataClean.ipynb#W1sZmlsZQ%3D%3D?line=5'>6</a>\u001b[0m \u001b[39mfor\u001b[39;00m filename \u001b[39min\u001b[39;00m os\u001b[39m.\u001b[39;49mlistdir(directory):\n\u001b[1;32m      <a href='vscode-notebook-cell:/Users/seohyeonlee/p-ollution/Seohyeon/airDataClean.ipynb#W1sZmlsZQ%3D%3D?line=6'>7</a>\u001b[0m     f \u001b[39m=\u001b[39m os\u001b[39m.\u001b[39mpath\u001b[39m.\u001b[39mjoin(directory, filename)\n\u001b[1;32m      <a href='vscode-notebook-cell:/Users/seohyeonlee/p-ollution/Seohyeon/airDataClean.ipynb#W1sZmlsZQ%3D%3D?line=8'>9</a>\u001b[0m     \u001b[39m# checking if it is a file\u001b[39;00m\n",
      "\u001b[0;31mFileNotFoundError\u001b[0m: [Errno 2] No such file or directory: 'rawdata/air_data'"
     ]
    }
   ],
   "source": [
    "directory = \"rawdata/air_data\"\n",
    "\n",
    "#loop through data folder and open each file as csv. take name from disease code\n",
    "df_list = []\n",
    "title_list = []\n",
    "for filename in os.listdir(directory):\n",
    "    f = os.path.join(directory, filename)\n",
    "\n",
    "    # checking if it is a file\n",
    "    if os.path.isfile(f):\n",
    "        print(filename)\n",
    "        title = filename\n",
    "        print(title)\n",
    "        title_list.append(title)\n",
    "        if filename.split('.')[1] == \"csv\":\n",
    "            df = pd.read_csv(f) \n",
    "            print(df.head())  \n",
    "        elif filename.split('.')[1] == \"xlsx\":\n",
    "            df = pd.read_excel(f)\n",
    "            print(df.head())  \n",
    "        #append df to df list regardless of f type\n",
    "        df_list.append(df)\n",
    "        #print(title[:4])"
   ]
  },
  {
   "cell_type": "code",
   "execution_count": 6,
   "metadata": {},
   "outputs": [],
   "source": [
    "out1 = \"air_data_precovid\"\n",
    "out2 = \"air_data_postcovid\"\n",
    "for filename, df in zip(title_list, df_list):\n",
    "    title = filename.split(\".\")[0]\n",
    "    df['Classification(1)']= df['Classification(1)'].ffill()\n",
    "    filtered_df = df[(df['Classification(1)'] == df['Classification(2)']) | df['Classification(2)'].str.contains('Average')]\n",
    "    filtered_df.drop([\"Classification(2)\"], axis = 1, inplace=True)\n",
    "    filtered_df.rename(columns = {\"Classification(1)\":\"region\"}, inplace = True)\n",
    "\n",
    "    filtered_df['region'] = filtered_df['region'].map(lambda x: x.replace(\"Sejong-si\", \"Sejong\").replace(\"Jeju Special Self-governing Province\", \"Jeju\"))\n",
    "\n",
    "    \n",
    "    final = filtered_df.transpose()\n",
    "    col_ax = final.iloc[0, :]\n",
    "    final = final.iloc[1:].set_axis(col_ax, axis=1)\n",
    "    if \"2017_2019\" in title:\n",
    "        out = out1\n",
    "    else:\n",
    "        out = out2\n",
    "    print(out)\n",
    "    os.makedirs(out, exist_ok=True)  \n",
    "    out_path = os.path.join(out, title + \".csv\")\n",
    "    final.to_csv(out_path)\n"
   ]
  },
  {
   "cell_type": "code",
   "execution_count": null,
   "metadata": {},
   "outputs": [],
   "source": [
    "#concat files ending with 2017_2019 with the same pollutant\n",
    "#we get data from 2017 to 2022\n",
    "#do this only if the corresponding file has data starting from 2020\n",
    "\n",
    "\n"
   ]
  },
  {
   "cell_type": "code",
   "execution_count": 8,
   "metadata": {},
   "outputs": [
    {
     "ename": "FileNotFoundError",
     "evalue": "[Errno 2] No such file or directory: 'rawdata/air_data_postcovid'",
     "output_type": "error",
     "traceback": [
      "\u001b[0;31m---------------------------------------------------------------------------\u001b[0m",
      "\u001b[0;31mFileNotFoundError\u001b[0m                         Traceback (most recent call last)",
      "\u001b[1;32m/Users/seohyeonlee/p-ollution/Seohyeon/airDataClean.ipynb Cell 5\u001b[0m line \u001b[0;36m9\n\u001b[1;32m      <a href='vscode-notebook-cell:/Users/seohyeonlee/p-ollution/Seohyeon/airDataClean.ipynb#W4sZmlsZQ%3D%3D?line=5'>6</a>\u001b[0m directory \u001b[39m=\u001b[39m \u001b[39m\"\u001b[39m\u001b[39mrawdata/air_data_postcovid\u001b[39m\u001b[39m\"\u001b[39m\n\u001b[1;32m      <a href='vscode-notebook-cell:/Users/seohyeonlee/p-ollution/Seohyeon/airDataClean.ipynb#W4sZmlsZQ%3D%3D?line=6'>7</a>\u001b[0m out \u001b[39m=\u001b[39m \u001b[39m\"\u001b[39m\u001b[39mrawdata/air_data\u001b[39m\u001b[39m\"\u001b[39m\n\u001b[0;32m----> <a href='vscode-notebook-cell:/Users/seohyeonlee/p-ollution/Seohyeon/airDataClean.ipynb#W4sZmlsZQ%3D%3D?line=8'>9</a>\u001b[0m \u001b[39mfor\u001b[39;00m filename \u001b[39min\u001b[39;00m os\u001b[39m.\u001b[39;49mlistdir(directory):\n\u001b[1;32m     <a href='vscode-notebook-cell:/Users/seohyeonlee/p-ollution/Seohyeon/airDataClean.ipynb#W4sZmlsZQ%3D%3D?line=9'>10</a>\u001b[0m     f \u001b[39m=\u001b[39m os\u001b[39m.\u001b[39mpath\u001b[39m.\u001b[39mjoin(directory, filename)\n\u001b[1;32m     <a href='vscode-notebook-cell:/Users/seohyeonlee/p-ollution/Seohyeon/airDataClean.ipynb#W4sZmlsZQ%3D%3D?line=10'>11</a>\u001b[0m     title \u001b[39m=\u001b[39m filename\u001b[39m.\u001b[39msplit(\u001b[39m\"\u001b[39m\u001b[39m.\u001b[39m\u001b[39m\"\u001b[39m)[\u001b[39m0\u001b[39m]\n",
      "\u001b[0;31mFileNotFoundError\u001b[0m: [Errno 2] No such file or directory: 'rawdata/air_data_postcovid'"
     ]
    }
   ],
   "source": [
    "#loop through things in air_data_postcovid\n",
    "#if first row contains 2017, skip \n",
    "#else \n",
    "#concat on row\n",
    "\n",
    "directory = \"rawdata/air_data_postcovid\"\n",
    "out = \"rawdata/air_data\"\n",
    "\n",
    "for filename in os.listdir(directory):\n",
    "    f = os.path.join(directory, filename)\n",
    "    title = filename.split(\".\")[0]\n",
    "\n",
    "    # checking if it is a file\n",
    "    if os.path.isfile(f):\n",
    "        df = pd.read_csv(f) \n",
    "        idx = df.iloc[:, 0]\n",
    "        if not idx[0] == \"2017.01\":\n",
    "            #find file that contains the same pollutant name from air_data_precovid\n",
    "            precovid_dir = \"air_data_precovid\"\n",
    "            f2 = f = os.path.join(precovid_dir, title + \"_2017_2019.csv\")\n",
    "            df2 = pd.read_csv(f) \n",
    "            out_df = pd.concat([df2, df])\n",
    "            out_df.head()\n",
    "        else:\n",
    "            out_df = df\n",
    "    \n",
    "    os.makedirs(out, exist_ok=True)  \n",
    "    out_path = os.path.join(out, title + \".csv\")\n",
    "    out_df.to_csv(out_path)\n",
    "            \n",
    "       # df.set_index()\n",
    "    "
   ]
  },
  {
   "cell_type": "code",
   "execution_count": null,
   "metadata": {},
   "outputs": [],
   "source": [
    "finedust_df = pd.read_csv('air_data/pm10.csv')"
   ]
  }
 ],
 "metadata": {
  "kernelspec": {
   "display_name": ".venv",
   "language": "python",
   "name": "python3"
  },
  "language_info": {
   "codemirror_mode": {
    "name": "ipython",
    "version": 3
   },
   "file_extension": ".py",
   "mimetype": "text/x-python",
   "name": "python",
   "nbconvert_exporter": "python",
   "pygments_lexer": "ipython3",
   "version": "3.11.4"
  },
  "orig_nbformat": 4
 },
 "nbformat": 4,
 "nbformat_minor": 2
}
