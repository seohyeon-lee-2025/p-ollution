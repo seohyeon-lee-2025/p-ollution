{
 "cells": [
  {
   "cell_type": "code",
   "execution_count": 1,
   "metadata": {},
   "outputs": [],
   "source": [
    "import pandas as pd\n",
    "import numpy as np\n",
    "import os\n",
    "import re"
   ]
  },
  {
   "cell_type": "code",
   "execution_count": null,
   "metadata": {},
   "outputs": [],
   "source": [
    "directory = \"air_data\"\n",
    "\n",
    "#loop through data folder and open each file as csv. take name from disease code\n",
    "df_list = []\n",
    "title_list = []\n",
    "for filename in os.listdir(directory):\n",
    "    f = os.path.join(directory, filename)\n",
    "\n",
    "    # checking if it is a file\n",
    "    if os.path.isfile(f):\n",
    "        title = filename.split('.')[0]\n",
    "        title_list.append(title)\n",
    "        if filename.split('.')[1] == \"csv\":\n",
    "            title = pd.read_csv(f)\n",
    "           \n",
    "        elif filename.split('.')[1] == \"xlsx\":\n",
    "            df = pd.read_excel(f)\n",
    "        df_list.append(df)"
   ]
  }
 ],
 "metadata": {
  "kernelspec": {
   "display_name": ".venv",
   "language": "python",
   "name": "python3"
  },
  "language_info": {
   "codemirror_mode": {
    "name": "ipython",
    "version": 3
   },
   "file_extension": ".py",
   "mimetype": "text/x-python",
   "name": "python",
   "nbconvert_exporter": "python",
   "pygments_lexer": "ipython3",
   "version": "3.11.4"
  },
  "orig_nbformat": 4
 },
 "nbformat": 4,
 "nbformat_minor": 2
}
