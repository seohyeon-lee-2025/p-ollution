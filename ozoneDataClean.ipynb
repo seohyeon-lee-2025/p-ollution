{
 "cells": [
  {
   "cell_type": "code",
   "execution_count": 2,
   "metadata": {},
   "outputs": [],
   "source": [
    "import pandas as pd\n",
    "import numpy as np\n",
    "import os"
   ]
  },
  {
   "cell_type": "code",
   "execution_count": 3,
   "metadata": {},
   "outputs": [
    {
     "name": "stderr",
     "output_type": "stream",
     "text": [
      "/Users/seohyeonlee/p-ollution/.venv/lib/python3.11/site-packages/openpyxl/styles/stylesheet.py:226: UserWarning: Workbook contains no default style, apply openpyxl's default\n",
      "  warn(\"Workbook contains no default style, apply openpyxl's default\")\n",
      "/Users/seohyeonlee/p-ollution/.venv/lib/python3.11/site-packages/openpyxl/styles/stylesheet.py:226: UserWarning: Workbook contains no default style, apply openpyxl's default\n",
      "  warn(\"Workbook contains no default style, apply openpyxl's default\")\n",
      "/Users/seohyeonlee/p-ollution/.venv/lib/python3.11/site-packages/openpyxl/styles/stylesheet.py:226: UserWarning: Workbook contains no default style, apply openpyxl's default\n",
      "  warn(\"Workbook contains no default style, apply openpyxl's default\")\n"
     ]
    }
   ],
   "source": [
    "directory = \"air_data\"\n",
    "\n",
    "#loop through data folder and open each file as csv. take name from disease code\n",
    "csv_list = []\n",
    "xlsx_list = []\n",
    "title_list_csv = []\n",
    "title_list_xlsx = []\n",
    "for filename in os.listdir(directory):\n",
    "    f = os.path.join(directory, filename)\n",
    "\n",
    "    # checking if it is a file\n",
    "    if os.path.isfile(f):\n",
    "        title = filename.split('.')[0]\n",
    "        \n",
    "        if filename.split('.')[1] == \"csv\":\n",
    "            title_list_csv.append(title)\n",
    "            df = pd.read_csv(f)\n",
    "            csv_list.append(df)\n",
    "           \n",
    "        elif filename.split('.')[1] == \"xlsx\":\n",
    "            df = pd.read_excel(f)\n",
    "            title_list_xlsx.append(title)\n",
    "            xlsx_list.append(df)\n",
    "        #print(title[:4])"
   ]
  },
  {
   "cell_type": "code",
   "execution_count": 4,
   "metadata": {},
   "outputs": [
    {
     "name": "stdout",
     "output_type": "stream",
     "text": [
      "['no2', 'co', 'pm10']\n",
      "['sox', 'pm10', 'ozone']\n"
     ]
    }
   ],
   "source": [
    "print(title_list_csv)\n",
    "print(title_list_xlsx)\n",
    "#print(csv_list)"
   ]
  },
  {
   "cell_type": "code",
   "execution_count": null,
   "metadata": {},
   "outputs": [],
   "source": [
    "pm1"
   ]
  },
  {
   "cell_type": "code",
   "execution_count": 28,
   "metadata": {},
   "outputs": [
    {
     "name": "stderr",
     "output_type": "stream",
     "text": [
      "/Users/seohyeonlee/p-ollution/.venv/lib/python3.11/site-packages/openpyxl/styles/stylesheet.py:226: UserWarning: Workbook contains no default style, apply openpyxl's default\n",
      "  warn(\"Workbook contains no default style, apply openpyxl's default\")\n"
     ]
    }
   ],
   "source": [
    "pm10 = pd.read_excel('air_data/pm10.xlsx')"
   ]
  },
  {
   "cell_type": "code",
   "execution_count": 32,
   "metadata": {},
   "outputs": [
    {
     "data": {
      "text/plain": [
       "0                                     Total\n",
       "1                                     Seoul\n",
       "2                                     Busan\n",
       "3                                     Daegu\n",
       "4                                   Incheon\n",
       "                       ...                 \n",
       "167                                     NaN\n",
       "168                                     NaN\n",
       "169    Jeju Special Self-governing Province\n",
       "170                                     NaN\n",
       "171                                     NaN\n",
       "Name: Classification(1), Length: 172, dtype: object"
      ]
     },
     "execution_count": 32,
     "metadata": {},
     "output_type": "execute_result"
    }
   ],
   "source": [
    "ozone_df['Classification(1)']"
   ]
  },
  {
   "cell_type": "code",
   "execution_count": 16,
   "metadata": {},
   "outputs": [
    {
     "name": "stderr",
     "output_type": "stream",
     "text": [
      "/var/folders/lq/dt070ydd3h13pqgrgy6rpv300000gn/T/ipykernel_89530/2998441278.py:4: SettingWithCopyWarning: \n",
      "A value is trying to be set on a copy of a slice from a DataFrame\n",
      "\n",
      "See the caveats in the documentation: https://pandas.pydata.org/pandas-docs/stable/user_guide/indexing.html#returning-a-view-versus-a-copy\n",
      "  filtered_df.drop([\"Classification(2)\"], axis = 1, inplace=True)\n",
      "/var/folders/lq/dt070ydd3h13pqgrgy6rpv300000gn/T/ipykernel_89530/2998441278.py:5: SettingWithCopyWarning: \n",
      "A value is trying to be set on a copy of a slice from a DataFrame\n",
      "\n",
      "See the caveats in the documentation: https://pandas.pydata.org/pandas-docs/stable/user_guide/indexing.html#returning-a-view-versus-a-copy\n",
      "  filtered_df.rename(columns = {\"Classification(1)\":\"region\"}, inplace = True)\n",
      "/var/folders/lq/dt070ydd3h13pqgrgy6rpv300000gn/T/ipykernel_89530/2998441278.py:6: SettingWithCopyWarning: \n",
      "A value is trying to be set on a copy of a slice from a DataFrame.\n",
      "Try using .loc[row_indexer,col_indexer] = value instead\n",
      "\n",
      "See the caveats in the documentation: https://pandas.pydata.org/pandas-docs/stable/user_guide/indexing.html#returning-a-view-versus-a-copy\n",
      "  filtered_df['region'] = filtered_df['region'].map(lambda x: x.replace(\"Sejong-si\", \"Sejong\").replace(\"Jeju Special Self-governing Province\", \"Jeju\"))\n"
     ]
    }
   ],
   "source": [
    "pm10['Classification(1)'].ffill(inplace=True)\n",
    "\n",
    "filtered_df = pm10[(pm10['Classification(1)'] == pm10['Classification(2)']) | pm10['Classification(2)'].str.contains('Average')]\n",
    "filtered_df.drop([\"Classification(2)\"], axis = 1, inplace=True)\n",
    "filtered_df.rename(columns = {\"Classification(1)\":\"region\"}, inplace = True)\n",
    "filtered_df['region'] = filtered_df['region'].map(lambda x: x.replace(\"Sejong-si\", \"Sejong\").replace(\"Jeju Special Self-governing Province\", \"Jeju\"))\n"
   ]
  },
  {
   "cell_type": "code",
   "execution_count": 39,
   "metadata": {},
   "outputs": [],
   "source": [
    "def cleanData(df):\n",
    "    df['Classification(1)'].ffill(inplace=True)\n",
    "    filtered_df = df[(df['Classification(1)'] == df['Classification(2)']) | df['Classification(2)'].str.contains('Average')]\n",
    "    filtered_df.drop([\"Classification(2)\"], axis = 1, inplace=True)\n",
    "    filtered_df.rename(columns = {\"Classification(1)\":\"region\"}, inplace = True)\n",
    "    filtered_df['region'] = filtered_df['region'].map(lambda x: x.replace(\"Sejong-si\", \"Sejong\").replace(\"Jeju Special Self-governing Province\", \"Jeju\"))\n",
    "    filtered_df.set_index('region', inplace = True)\n",
    "    filtered_df = filtered_df.transpose()\n",
    "    return filtered_df"
   ]
  },
  {
   "cell_type": "code",
   "execution_count": 40,
   "metadata": {},
   "outputs": [
    {
     "name": "stderr",
     "output_type": "stream",
     "text": [
      "/var/folders/lq/dt070ydd3h13pqgrgy6rpv300000gn/T/ipykernel_89530/3885276014.py:4: SettingWithCopyWarning: \n",
      "A value is trying to be set on a copy of a slice from a DataFrame\n",
      "\n",
      "See the caveats in the documentation: https://pandas.pydata.org/pandas-docs/stable/user_guide/indexing.html#returning-a-view-versus-a-copy\n",
      "  filtered_df.drop([\"Classification(2)\"], axis = 1, inplace=True)\n",
      "/var/folders/lq/dt070ydd3h13pqgrgy6rpv300000gn/T/ipykernel_89530/3885276014.py:5: SettingWithCopyWarning: \n",
      "A value is trying to be set on a copy of a slice from a DataFrame\n",
      "\n",
      "See the caveats in the documentation: https://pandas.pydata.org/pandas-docs/stable/user_guide/indexing.html#returning-a-view-versus-a-copy\n",
      "  filtered_df.rename(columns = {\"Classification(1)\":\"region\"}, inplace = True)\n",
      "/var/folders/lq/dt070ydd3h13pqgrgy6rpv300000gn/T/ipykernel_89530/3885276014.py:6: SettingWithCopyWarning: \n",
      "A value is trying to be set on a copy of a slice from a DataFrame.\n",
      "Try using .loc[row_indexer,col_indexer] = value instead\n",
      "\n",
      "See the caveats in the documentation: https://pandas.pydata.org/pandas-docs/stable/user_guide/indexing.html#returning-a-view-versus-a-copy\n",
      "  filtered_df['region'] = filtered_df['region'].map(lambda x: x.replace(\"Sejong-si\", \"Sejong\").replace(\"Jeju Special Self-governing Province\", \"Jeju\"))\n"
     ]
    },
    {
     "data": {
      "text/html": [
       "<div>\n",
       "<style scoped>\n",
       "    .dataframe tbody tr th:only-of-type {\n",
       "        vertical-align: middle;\n",
       "    }\n",
       "\n",
       "    .dataframe tbody tr th {\n",
       "        vertical-align: top;\n",
       "    }\n",
       "\n",
       "    .dataframe thead th {\n",
       "        text-align: right;\n",
       "    }\n",
       "</style>\n",
       "<table border=\"1\" class=\"dataframe\">\n",
       "  <thead>\n",
       "    <tr style=\"text-align: right;\">\n",
       "      <th>region</th>\n",
       "      <th>Seoul</th>\n",
       "      <th>Busan</th>\n",
       "      <th>Daegu</th>\n",
       "      <th>Incheon</th>\n",
       "      <th>Gwangju</th>\n",
       "      <th>Daejeon</th>\n",
       "      <th>Ulsan</th>\n",
       "      <th>Sejong</th>\n",
       "      <th>Gyeonggi</th>\n",
       "      <th>Gangwon</th>\n",
       "      <th>Chungbuk</th>\n",
       "      <th>Chungnam</th>\n",
       "      <th>Jeonbuk</th>\n",
       "      <th>Jeonnam</th>\n",
       "      <th>Gyeongbuk</th>\n",
       "      <th>Gyeongnam</th>\n",
       "      <th>Jeju</th>\n",
       "    </tr>\n",
       "  </thead>\n",
       "  <tbody>\n",
       "    <tr>\n",
       "      <th>2020.01</th>\n",
       "      <td>42</td>\n",
       "      <td>32</td>\n",
       "      <td>37</td>\n",
       "      <td>42</td>\n",
       "      <td>36</td>\n",
       "      <td>41</td>\n",
       "      <td>30</td>\n",
       "      <td>47</td>\n",
       "      <td>47</td>\n",
       "      <td>34</td>\n",
       "      <td>46</td>\n",
       "      <td>45</td>\n",
       "      <td>40</td>\n",
       "      <td>31</td>\n",
       "      <td>34</td>\n",
       "      <td>29</td>\n",
       "      <td>31</td>\n",
       "    </tr>\n",
       "    <tr>\n",
       "      <th>2020.02</th>\n",
       "      <td>41</td>\n",
       "      <td>34</td>\n",
       "      <td>38</td>\n",
       "      <td>37</td>\n",
       "      <td>32</td>\n",
       "      <td>38</td>\n",
       "      <td>31</td>\n",
       "      <td>43</td>\n",
       "      <td>44</td>\n",
       "      <td>36</td>\n",
       "      <td>42</td>\n",
       "      <td>44</td>\n",
       "      <td>36</td>\n",
       "      <td>31</td>\n",
       "      <td>35</td>\n",
       "      <td>32</td>\n",
       "      <td>34</td>\n",
       "    </tr>\n",
       "    <tr>\n",
       "      <th>2020.03</th>\n",
       "      <td>45</td>\n",
       "      <td>33</td>\n",
       "      <td>38</td>\n",
       "      <td>41</td>\n",
       "      <td>35</td>\n",
       "      <td>40</td>\n",
       "      <td>34</td>\n",
       "      <td>47</td>\n",
       "      <td>49</td>\n",
       "      <td>37</td>\n",
       "      <td>43</td>\n",
       "      <td>48</td>\n",
       "      <td>41</td>\n",
       "      <td>31</td>\n",
       "      <td>36</td>\n",
       "      <td>31</td>\n",
       "      <td>35</td>\n",
       "    </tr>\n",
       "    <tr>\n",
       "      <th>2020.04</th>\n",
       "      <td>44</td>\n",
       "      <td>36</td>\n",
       "      <td>39</td>\n",
       "      <td>39</td>\n",
       "      <td>38</td>\n",
       "      <td>41</td>\n",
       "      <td>36</td>\n",
       "      <td>44</td>\n",
       "      <td>47</td>\n",
       "      <td>39</td>\n",
       "      <td>43</td>\n",
       "      <td>45</td>\n",
       "      <td>41</td>\n",
       "      <td>34</td>\n",
       "      <td>38</td>\n",
       "      <td>33</td>\n",
       "      <td>41</td>\n",
       "    </tr>\n",
       "    <tr>\n",
       "      <th>2020.05</th>\n",
       "      <td>35</td>\n",
       "      <td>32</td>\n",
       "      <td>38</td>\n",
       "      <td>31</td>\n",
       "      <td>31</td>\n",
       "      <td>32</td>\n",
       "      <td>36</td>\n",
       "      <td>34</td>\n",
       "      <td>38</td>\n",
       "      <td>29</td>\n",
       "      <td>33</td>\n",
       "      <td>35</td>\n",
       "      <td>34</td>\n",
       "      <td>29</td>\n",
       "      <td>33</td>\n",
       "      <td>32</td>\n",
       "      <td>36</td>\n",
       "    </tr>\n",
       "  </tbody>\n",
       "</table>\n",
       "</div>"
      ],
      "text/plain": [
       "region  Seoul Busan Daegu Incheon Gwangju Daejeon Ulsan Sejong Gyeonggi  \\\n",
       "2020.01    42    32    37      42      36      41    30     47       47   \n",
       "2020.02    41    34    38      37      32      38    31     43       44   \n",
       "2020.03    45    33    38      41      35      40    34     47       49   \n",
       "2020.04    44    36    39      39      38      41    36     44       47   \n",
       "2020.05    35    32    38      31      31      32    36     34       38   \n",
       "\n",
       "region  Gangwon Chungbuk Chungnam Jeonbuk Jeonnam Gyeongbuk Gyeongnam Jeju  \n",
       "2020.01      34       46       45      40      31        34        29   31  \n",
       "2020.02      36       42       44      36      31        35        32   34  \n",
       "2020.03      37       43       48      41      31        36        31   35  \n",
       "2020.04      39       43       45      41      34        38        33   41  \n",
       "2020.05      29       33       35      34      29        33        32   36  "
      ]
     },
     "execution_count": 40,
     "metadata": {},
     "output_type": "execute_result"
    }
   ],
   "source": [
    "res = cleanData(pm10)\n",
    "res.head()\n"
   ]
  },
  {
   "cell_type": "code",
   "execution_count": null,
   "metadata": {},
   "outputs": [],
   "source": [
    "\n"
   ]
  },
  {
   "cell_type": "code",
   "execution_count": 41,
   "metadata": {},
   "outputs": [],
   "source": [
    "#filtered_df = filtered_df.set_index('region')\n",
    "final = res\n",
    "final.to_csv('data/pm10.csv')"
   ]
  },
  {
   "cell_type": "code",
   "execution_count": 50,
   "metadata": {},
   "outputs": [
    {
     "name": "stdout",
     "output_type": "stream",
     "text": [
      "data/co.csv\n",
      "data/sox.csv\n"
     ]
    },
    {
     "name": "stderr",
     "output_type": "stream",
     "text": [
      "/Users/seohyeonlee/p-ollution/.venv/lib/python3.11/site-packages/openpyxl/styles/stylesheet.py:226: UserWarning: Workbook contains no default style, apply openpyxl's default\n",
      "  warn(\"Workbook contains no default style, apply openpyxl's default\")\n",
      "/var/folders/lq/dt070ydd3h13pqgrgy6rpv300000gn/T/ipykernel_89530/3885276014.py:4: SettingWithCopyWarning: \n",
      "A value is trying to be set on a copy of a slice from a DataFrame\n",
      "\n",
      "See the caveats in the documentation: https://pandas.pydata.org/pandas-docs/stable/user_guide/indexing.html#returning-a-view-versus-a-copy\n",
      "  filtered_df.drop([\"Classification(2)\"], axis = 1, inplace=True)\n",
      "/var/folders/lq/dt070ydd3h13pqgrgy6rpv300000gn/T/ipykernel_89530/3885276014.py:5: SettingWithCopyWarning: \n",
      "A value is trying to be set on a copy of a slice from a DataFrame\n",
      "\n",
      "See the caveats in the documentation: https://pandas.pydata.org/pandas-docs/stable/user_guide/indexing.html#returning-a-view-versus-a-copy\n",
      "  filtered_df.rename(columns = {\"Classification(1)\":\"region\"}, inplace = True)\n",
      "/var/folders/lq/dt070ydd3h13pqgrgy6rpv300000gn/T/ipykernel_89530/3885276014.py:6: SettingWithCopyWarning: \n",
      "A value is trying to be set on a copy of a slice from a DataFrame.\n",
      "Try using .loc[row_indexer,col_indexer] = value instead\n",
      "\n",
      "See the caveats in the documentation: https://pandas.pydata.org/pandas-docs/stable/user_guide/indexing.html#returning-a-view-versus-a-copy\n",
      "  filtered_df['region'] = filtered_df['region'].map(lambda x: x.replace(\"Sejong-si\", \"Sejong\").replace(\"Jeju Special Self-governing Province\", \"Jeju\"))\n",
      "/Users/seohyeonlee/p-ollution/.venv/lib/python3.11/site-packages/openpyxl/styles/stylesheet.py:226: UserWarning: Workbook contains no default style, apply openpyxl's default\n",
      "  warn(\"Workbook contains no default style, apply openpyxl's default\")\n",
      "/var/folders/lq/dt070ydd3h13pqgrgy6rpv300000gn/T/ipykernel_89530/3885276014.py:4: SettingWithCopyWarning: \n",
      "A value is trying to be set on a copy of a slice from a DataFrame\n",
      "\n",
      "See the caveats in the documentation: https://pandas.pydata.org/pandas-docs/stable/user_guide/indexing.html#returning-a-view-versus-a-copy\n",
      "  filtered_df.drop([\"Classification(2)\"], axis = 1, inplace=True)\n",
      "/var/folders/lq/dt070ydd3h13pqgrgy6rpv300000gn/T/ipykernel_89530/3885276014.py:5: SettingWithCopyWarning: \n",
      "A value is trying to be set on a copy of a slice from a DataFrame\n",
      "\n",
      "See the caveats in the documentation: https://pandas.pydata.org/pandas-docs/stable/user_guide/indexing.html#returning-a-view-versus-a-copy\n",
      "  filtered_df.rename(columns = {\"Classification(1)\":\"region\"}, inplace = True)\n",
      "/var/folders/lq/dt070ydd3h13pqgrgy6rpv300000gn/T/ipykernel_89530/3885276014.py:6: SettingWithCopyWarning: \n",
      "A value is trying to be set on a copy of a slice from a DataFrame.\n",
      "Try using .loc[row_indexer,col_indexer] = value instead\n",
      "\n",
      "See the caveats in the documentation: https://pandas.pydata.org/pandas-docs/stable/user_guide/indexing.html#returning-a-view-versus-a-copy\n",
      "  filtered_df['region'] = filtered_df['region'].map(lambda x: x.replace(\"Sejong-si\", \"Sejong\").replace(\"Jeju Special Self-governing Province\", \"Jeju\"))\n"
     ]
    }
   ],
   "source": [
    "#pipeline under construction\n",
    "lst = ['co.xlsx', 'sox.xlsx']\n",
    "\n",
    "directory = \"rawdata/air_data\"\n",
    "out_directory = \"data\"\n",
    "\n",
    "for elem in lst:\n",
    "    f = os.path.join(directory, elem)\n",
    "    df = pd.read_excel(f)\n",
    "\n",
    "    result = cleanData(df)\n",
    "    outpath = os.path.join(out_directory, elem.replace(\"xlsx\", \"csv\"))\n",
    "    print(outpath)\n",
    "    result.to_csv(outpath)\n",
    "\n"
   ]
  }
 ],
 "metadata": {
  "kernelspec": {
   "display_name": ".venv",
   "language": "python",
   "name": "python3"
  },
  "language_info": {
   "codemirror_mode": {
    "name": "ipython",
    "version": 3
   },
   "file_extension": ".py",
   "mimetype": "text/x-python",
   "name": "python",
   "nbconvert_exporter": "python",
   "pygments_lexer": "ipython3",
   "version": "3.11.4"
  },
  "orig_nbformat": 4
 },
 "nbformat": 4,
 "nbformat_minor": 2
}
