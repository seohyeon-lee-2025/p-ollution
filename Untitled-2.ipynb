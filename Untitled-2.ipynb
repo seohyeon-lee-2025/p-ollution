{
 "cells": [
  {
   "cell_type": "code",
   "execution_count": 3,
   "metadata": {},
   "outputs": [],
   "source": [
    "import os\n",
    "import pandas as pd\n"
   ]
  },
  {
   "cell_type": "code",
   "execution_count": 10,
   "metadata": {},
   "outputs": [],
   "source": [
    "directory = \"air_data\"\n",
    "lst = []\n",
    "#loop through data folder and open each file as csv. take name from disease code\n",
    "for filename in os.listdir(directory):\n",
    "    f = os.path.join(directory, filename)\n",
    "\n",
    "    # checking if it is a file\n",
    "    if os.path.isfile(f):\n",
    "       df = pd.read_csv(f)\n",
    "       lst.append(df)\n",
    "\n",
    "        #print(title[:4])"
   ]
  },
  {
   "cell_type": "code",
   "execution_count": 24,
   "metadata": {},
   "outputs": [
    {
     "data": {
      "text/plain": [
       "0     2017.01\n",
       "1     2017.02\n",
       "2     2017.03\n",
       "3     2017.04\n",
       "4     2017.05\n",
       "       ...   \n",
       "67    2022.08\n",
       "68    2022.09\n",
       "69    2022.10\n",
       "70    2022.11\n",
       "71    2022.12\n",
       "Name: Unnamed: 0, Length: 72, dtype: float64"
      ]
     },
     "execution_count": 24,
     "metadata": {},
     "output_type": "execute_result"
    }
   ],
   "source": [
    "lst[0].iloc[:, 0]"
   ]
  }
 ],
 "metadata": {
  "kernelspec": {
   "display_name": ".venv",
   "language": "python",
   "name": "python3"
  },
  "language_info": {
   "codemirror_mode": {
    "name": "ipython",
    "version": 3
   },
   "file_extension": ".py",
   "mimetype": "text/x-python",
   "name": "python",
   "nbconvert_exporter": "python",
   "pygments_lexer": "ipython3",
   "version": "3.11.4"
  }
 },
 "nbformat": 4,
 "nbformat_minor": 2
}
